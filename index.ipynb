{
 "cells": [
  {
   "cell_type": "markdown",
   "metadata": {},
   "source": [
    "# Bias-Variance Trade-Off - Lab"
   ]
  },
  {
   "cell_type": "markdown",
   "metadata": {},
   "source": [
    "## Introduction"
   ]
  },
  {
   "cell_type": "markdown",
   "metadata": {},
   "source": [
    "In this lab, you'll practice your knowledge on the bias-variance trade-off!"
   ]
  },
  {
   "cell_type": "markdown",
   "metadata": {},
   "source": [
    "## Objectives"
   ]
  },
  {
   "cell_type": "markdown",
   "metadata": {},
   "source": [
    "You will be able to: \n",
    "- Look at an example where Polynomial regression leads to overfitting\n",
    "- Understand how bias-variance trade-off relates to underfitting and overfitting"
   ]
  },
  {
   "cell_type": "markdown",
   "metadata": {},
   "source": [
    "## Let's get started!"
   ]
  },
  {
   "cell_type": "markdown",
   "metadata": {},
   "source": [
    "In this lab, you'll try to predict some movie revenues based on certain factors, such as ratings and movie year."
   ]
  },
  {
   "cell_type": "code",
   "execution_count": 46,
   "metadata": {},
   "outputs": [
    {
     "data": {
      "text/html": [
       "<div>\n",
       "<style scoped>\n",
       "    .dataframe tbody tr th:only-of-type {\n",
       "        vertical-align: middle;\n",
       "    }\n",
       "\n",
       "    .dataframe tbody tr th {\n",
       "        vertical-align: top;\n",
       "    }\n",
       "\n",
       "    .dataframe thead th {\n",
       "        text-align: right;\n",
       "    }\n",
       "</style>\n",
       "<table border=\"1\" class=\"dataframe\">\n",
       "  <thead>\n",
       "    <tr style=\"text-align: right;\">\n",
       "      <th></th>\n",
       "      <th>budget</th>\n",
       "      <th>domgross</th>\n",
       "      <th>title</th>\n",
       "      <th>Response_Json</th>\n",
       "      <th>Year</th>\n",
       "      <th>imdbRating</th>\n",
       "      <th>Metascore</th>\n",
       "      <th>imdbVotes</th>\n",
       "      <th>Model</th>\n",
       "    </tr>\n",
       "  </thead>\n",
       "  <tbody>\n",
       "    <tr>\n",
       "      <th>0</th>\n",
       "      <td>13000000</td>\n",
       "      <td>25682380</td>\n",
       "      <td>21 &amp;amp; Over</td>\n",
       "      <td>0</td>\n",
       "      <td>2008</td>\n",
       "      <td>6.8</td>\n",
       "      <td>48</td>\n",
       "      <td>206513</td>\n",
       "      <td>4.912759e+07</td>\n",
       "    </tr>\n",
       "    <tr>\n",
       "      <th>1</th>\n",
       "      <td>45658735</td>\n",
       "      <td>13414714</td>\n",
       "      <td>Dredd 3D</td>\n",
       "      <td>0</td>\n",
       "      <td>2012</td>\n",
       "      <td>0.0</td>\n",
       "      <td>0</td>\n",
       "      <td>0</td>\n",
       "      <td>2.267265e+05</td>\n",
       "    </tr>\n",
       "    <tr>\n",
       "      <th>2</th>\n",
       "      <td>20000000</td>\n",
       "      <td>53107035</td>\n",
       "      <td>12 Years a Slave</td>\n",
       "      <td>0</td>\n",
       "      <td>2013</td>\n",
       "      <td>8.1</td>\n",
       "      <td>96</td>\n",
       "      <td>537525</td>\n",
       "      <td>1.626624e+08</td>\n",
       "    </tr>\n",
       "    <tr>\n",
       "      <th>3</th>\n",
       "      <td>61000000</td>\n",
       "      <td>75612460</td>\n",
       "      <td>2 Guns</td>\n",
       "      <td>0</td>\n",
       "      <td>2013</td>\n",
       "      <td>6.7</td>\n",
       "      <td>55</td>\n",
       "      <td>173726</td>\n",
       "      <td>7.723381e+07</td>\n",
       "    </tr>\n",
       "    <tr>\n",
       "      <th>4</th>\n",
       "      <td>40000000</td>\n",
       "      <td>95020213</td>\n",
       "      <td>42</td>\n",
       "      <td>0</td>\n",
       "      <td>2013</td>\n",
       "      <td>7.5</td>\n",
       "      <td>62</td>\n",
       "      <td>74170</td>\n",
       "      <td>4.151958e+07</td>\n",
       "    </tr>\n",
       "  </tbody>\n",
       "</table>\n",
       "</div>"
      ],
      "text/plain": [
       "     budget  domgross             title  Response_Json  Year  imdbRating  \\\n",
       "0  13000000  25682380     21 &amp; Over              0  2008         6.8   \n",
       "1  45658735  13414714          Dredd 3D              0  2012         0.0   \n",
       "2  20000000  53107035  12 Years a Slave              0  2013         8.1   \n",
       "3  61000000  75612460            2 Guns              0  2013         6.7   \n",
       "4  40000000  95020213                42              0  2013         7.5   \n",
       "\n",
       "   Metascore  imdbVotes         Model  \n",
       "0         48     206513  4.912759e+07  \n",
       "1          0          0  2.267265e+05  \n",
       "2         96     537525  1.626624e+08  \n",
       "3         55     173726  7.723381e+07  \n",
       "4         62      74170  4.151958e+07  "
      ]
     },
     "execution_count": 46,
     "metadata": {},
     "output_type": "execute_result"
    }
   ],
   "source": [
    "import pandas as pd\n",
    "from sklearn.preprocessing import MinMaxScaler\n",
    "\n",
    "df = pd.read_excel('./movie_data_detailed_with_ols.xlsx')\n",
    "df.head()"
   ]
  },
  {
   "cell_type": "code",
   "execution_count": 47,
   "metadata": {},
   "outputs": [
    {
     "name": "stderr",
     "output_type": "stream",
     "text": [
      "/opt/conda/envs/learn-env/lib/python3.6/site-packages/sklearn/preprocessing/data.py:323: DataConversionWarning: Data with input dtype int64, float64 were all converted to float64 by MinMaxScaler.\n",
      "  return self.partial_fit(X, y)\n"
     ]
    },
    {
     "data": {
      "text/html": [
       "<div>\n",
       "<style scoped>\n",
       "    .dataframe tbody tr th:only-of-type {\n",
       "        vertical-align: middle;\n",
       "    }\n",
       "\n",
       "    .dataframe tbody tr th {\n",
       "        vertical-align: top;\n",
       "    }\n",
       "\n",
       "    .dataframe thead th {\n",
       "        text-align: right;\n",
       "    }\n",
       "</style>\n",
       "<table border=\"1\" class=\"dataframe\">\n",
       "  <thead>\n",
       "    <tr style=\"text-align: right;\">\n",
       "      <th></th>\n",
       "      <th>domgross</th>\n",
       "      <th>budget</th>\n",
       "      <th>imdbRating</th>\n",
       "      <th>Metascore</th>\n",
       "      <th>imdbVotes</th>\n",
       "    </tr>\n",
       "  </thead>\n",
       "  <tbody>\n",
       "    <tr>\n",
       "      <th>0</th>\n",
       "      <td>0.055325</td>\n",
       "      <td>0.034169</td>\n",
       "      <td>0.839506</td>\n",
       "      <td>0.500000</td>\n",
       "      <td>0.384192</td>\n",
       "    </tr>\n",
       "    <tr>\n",
       "      <th>1</th>\n",
       "      <td>0.023779</td>\n",
       "      <td>0.182956</td>\n",
       "      <td>0.000000</td>\n",
       "      <td>0.000000</td>\n",
       "      <td>0.000000</td>\n",
       "    </tr>\n",
       "    <tr>\n",
       "      <th>2</th>\n",
       "      <td>0.125847</td>\n",
       "      <td>0.066059</td>\n",
       "      <td>1.000000</td>\n",
       "      <td>1.000000</td>\n",
       "      <td>1.000000</td>\n",
       "    </tr>\n",
       "    <tr>\n",
       "      <th>3</th>\n",
       "      <td>0.183719</td>\n",
       "      <td>0.252847</td>\n",
       "      <td>0.827160</td>\n",
       "      <td>0.572917</td>\n",
       "      <td>0.323196</td>\n",
       "    </tr>\n",
       "    <tr>\n",
       "      <th>4</th>\n",
       "      <td>0.233625</td>\n",
       "      <td>0.157175</td>\n",
       "      <td>0.925926</td>\n",
       "      <td>0.645833</td>\n",
       "      <td>0.137984</td>\n",
       "    </tr>\n",
       "  </tbody>\n",
       "</table>\n",
       "</div>"
      ],
      "text/plain": [
       "   domgross    budget  imdbRating  Metascore  imdbVotes\n",
       "0  0.055325  0.034169    0.839506   0.500000   0.384192\n",
       "1  0.023779  0.182956    0.000000   0.000000   0.000000\n",
       "2  0.125847  0.066059    1.000000   1.000000   1.000000\n",
       "3  0.183719  0.252847    0.827160   0.572917   0.323196\n",
       "4  0.233625  0.157175    0.925926   0.645833   0.137984"
      ]
     },
     "execution_count": 47,
     "metadata": {},
     "output_type": "execute_result"
    }
   ],
   "source": [
    "# Only keep four predictors and transform the with MinMaxScaler\n",
    "\n",
    "scale = MinMaxScaler()\n",
    "df = df[[ \"domgross\", \"budget\", \"imdbRating\", \"Metascore\", \"imdbVotes\"]]\n",
    "transformed = scale.fit_transform(df)\n",
    "pd_df = pd.DataFrame(transformed, columns = df.columns)\n",
    "pd_df.head()"
   ]
  },
  {
   "cell_type": "markdown",
   "metadata": {},
   "source": [
    "## Split the data into a test and train set"
   ]
  },
  {
   "cell_type": "code",
   "execution_count": 48,
   "metadata": {},
   "outputs": [
    {
     "data": {
      "text/html": [
       "<div>\n",
       "<style scoped>\n",
       "    .dataframe tbody tr th:only-of-type {\n",
       "        vertical-align: middle;\n",
       "    }\n",
       "\n",
       "    .dataframe tbody tr th {\n",
       "        vertical-align: top;\n",
       "    }\n",
       "\n",
       "    .dataframe thead th {\n",
       "        text-align: right;\n",
       "    }\n",
       "</style>\n",
       "<table border=\"1\" class=\"dataframe\">\n",
       "  <thead>\n",
       "    <tr style=\"text-align: right;\">\n",
       "      <th></th>\n",
       "      <th>domgross</th>\n",
       "      <th>budget</th>\n",
       "      <th>imdbRating</th>\n",
       "      <th>Metascore</th>\n",
       "      <th>imdbVotes</th>\n",
       "    </tr>\n",
       "  </thead>\n",
       "  <tbody>\n",
       "    <tr>\n",
       "      <th>0</th>\n",
       "      <td>0.055325</td>\n",
       "      <td>0.034169</td>\n",
       "      <td>0.839506</td>\n",
       "      <td>0.500000</td>\n",
       "      <td>0.384192</td>\n",
       "    </tr>\n",
       "    <tr>\n",
       "      <th>1</th>\n",
       "      <td>0.023779</td>\n",
       "      <td>0.182956</td>\n",
       "      <td>0.000000</td>\n",
       "      <td>0.000000</td>\n",
       "      <td>0.000000</td>\n",
       "    </tr>\n",
       "    <tr>\n",
       "      <th>2</th>\n",
       "      <td>0.125847</td>\n",
       "      <td>0.066059</td>\n",
       "      <td>1.000000</td>\n",
       "      <td>1.000000</td>\n",
       "      <td>1.000000</td>\n",
       "    </tr>\n",
       "    <tr>\n",
       "      <th>3</th>\n",
       "      <td>0.183719</td>\n",
       "      <td>0.252847</td>\n",
       "      <td>0.827160</td>\n",
       "      <td>0.572917</td>\n",
       "      <td>0.323196</td>\n",
       "    </tr>\n",
       "    <tr>\n",
       "      <th>4</th>\n",
       "      <td>0.233625</td>\n",
       "      <td>0.157175</td>\n",
       "      <td>0.925926</td>\n",
       "      <td>0.645833</td>\n",
       "      <td>0.137984</td>\n",
       "    </tr>\n",
       "  </tbody>\n",
       "</table>\n",
       "</div>"
      ],
      "text/plain": [
       "   domgross    budget  imdbRating  Metascore  imdbVotes\n",
       "0  0.055325  0.034169    0.839506   0.500000   0.384192\n",
       "1  0.023779  0.182956    0.000000   0.000000   0.000000\n",
       "2  0.125847  0.066059    1.000000   1.000000   1.000000\n",
       "3  0.183719  0.252847    0.827160   0.572917   0.323196\n",
       "4  0.233625  0.157175    0.925926   0.645833   0.137984"
      ]
     },
     "execution_count": 48,
     "metadata": {},
     "output_type": "execute_result"
    }
   ],
   "source": [
    "pd_df.head()"
   ]
  },
  {
   "cell_type": "code",
   "execution_count": 49,
   "metadata": {},
   "outputs": [],
   "source": [
    "# domgross is the outcome variable\n",
    "from sklearn.model_selection import train_test_split\n",
    "x=pd_df.drop('domgross', axis=1)\n",
    "y=pd_df['domgross']\n",
    "x_train, x_test, y_train, y_test = train_test_split(x,y)"
   ]
  },
  {
   "cell_type": "code",
   "execution_count": 50,
   "metadata": {},
   "outputs": [],
   "source": [
    "#Your code here\n",
    "df_train = pd.concat([y_train, x_train], axis=1, ignore_index=True)\n",
    "data_train = df_train.sort_values([0])\n",
    "data_train.columns = list(pd_df.columns)\n",
    "\n",
    "df_test = pd.concat([y_test, x_test], axis=1, ignore_index=True)\n",
    "data_test = df_test.sort_values([0])\n",
    "data_test.columns = list(pd_df.columns)"
   ]
  },
  {
   "cell_type": "markdown",
   "metadata": {},
   "source": [
    "## Fit a regression model to the training data and look at the coefficients"
   ]
  },
  {
   "cell_type": "code",
   "execution_count": 51,
   "metadata": {},
   "outputs": [],
   "source": [
    "#Your code \n",
    "from sklearn.linear_model import LinearRegression\n",
    "reg = LinearRegression().fit(x_train, y_train)"
   ]
  },
  {
   "cell_type": "code",
   "execution_count": 52,
   "metadata": {},
   "outputs": [
    {
     "name": "stdout",
     "output_type": "stream",
     "text": [
      "[ 0.47708636 -0.23882049  0.23628723  0.22807984]\n",
      "0.03001150972648195\n"
     ]
    }
   ],
   "source": [
    "print(reg.coef_)\n",
    "print(reg.intercept_)"
   ]
  },
  {
   "cell_type": "markdown",
   "metadata": {},
   "source": [
    "## Plot the training predictions against the actual data (y_hat_train vs. y_train)"
   ]
  },
  {
   "cell_type": "markdown",
   "metadata": {},
   "source": [
    "Let's plot our result for the train data. Because we have multiple predictors, we can not simply plot the income variable X on the x-axis and target y on the y-axis. Lets plot \n",
    "- A line showing the diagonal of y_train. The actual y_train values are on this line\n",
    "- Next, make a scatter plot that takes the actual y_train on the x-axis and the predictions using the model on the y-axis. You will see points scattered around the line. The horizontal distances between the points and the lines are the errors."
   ]
  },
  {
   "cell_type": "code",
   "execution_count": 53,
   "metadata": {},
   "outputs": [
    {
     "data": {
      "image/png": "[encoded data removed]",
      "text/plain": [
       "<Figure size 432x288 with 1 Axes>"
      ]
     },
     "metadata": {
      "needs_background": "light"
     },
     "output_type": "display_data"
    }
   ],
   "source": [
    "import matplotlib.pyplot as plt\n",
    "%matplotlib inline\n",
    "# your code here\n",
    "\n",
    "plt.plot(y_train, y_train, label='Actual Values')\n",
    "plt.scatter(y_train, reg.predict(x_train), label='Model')\n",
    "plt.legend()\n",
    "plt.show()"
   ]
  },
  {
   "cell_type": "markdown",
   "metadata": {},
   "source": [
    "## Plot the test predictions against the actual data (y_hat_test vs. y_test)"
   ]
  },
  {
   "cell_type": "markdown",
   "metadata": {},
   "source": [
    "Do the same thing for the test data."
   ]
  },
  {
   "cell_type": "code",
   "execution_count": 54,
   "metadata": {},
   "outputs": [
    {
     "data": {
      "image/png": "[encoded data removed]",
      "text/plain": [
       "<Figure size 432x288 with 1 Axes>"
      ]
     },
     "metadata": {
      "needs_background": "light"
     },
     "output_type": "display_data"
    }
   ],
   "source": [
    "# your code here\n",
    "plt.plot(y_test, y_test, label='Actual Data')\n",
    "plt.scatter(y_test, reg.predict(x_test), label='Model')\n",
    "plt.legend()\n",
    "plt.show()"
   ]
  },
  {
   "cell_type": "markdown",
   "metadata": {},
   "source": [
    "## Calculate the bias\n",
    "Create a function `bias` to calculate the bias of a models predictions given the actual data: $Bias(\\hat{f}(x)) = E[\\hat{f}(x)-f(x)]$   \n",
    "(The expected value can simply be taken as the mean or average value.)  \n"
   ]
  },
  {
   "cell_type": "code",
   "execution_count": 55,
   "metadata": {},
   "outputs": [],
   "source": [
    "import numpy as np\n",
    "def bias(y, y_hat):\n",
    "    return np.mean(y_hat - y)"
   ]
  },
  {
   "cell_type": "markdown",
   "metadata": {},
   "source": [
    "## Calculate the variance\n",
    "Create a function `variance` to calculate the variance of a model's predictions: $Var(\\hat{f}(x)) = E[\\hat{f}(x)^2] - \\big(E[\\hat{f}(x)]\\big)^2$"
   ]
  },
  {
   "cell_type": "code",
   "execution_count": 56,
   "metadata": {},
   "outputs": [],
   "source": [
    "def variance(y_hat):\n",
    "    return np.mean(y_hat**2) - (np.mean(y_hat))**2"
   ]
  },
  {
   "cell_type": "markdown",
   "metadata": {},
   "source": [
    "## Use your functions to calculate the bias and variance of your model. Do this separately for the train and test sets."
   ]
  },
  {
   "cell_type": "code",
   "execution_count": 57,
   "metadata": {},
   "outputs": [
    {
     "name": "stdout",
     "output_type": "stream",
     "text": [
      "4.289498049688105e-17\n",
      "0.02315693907763814\n"
     ]
    }
   ],
   "source": [
    "# code for train set bias and variance\n",
    "train_bias = bias(y_train, reg.predict(x_train)) \n",
    "train_var = variance(reg.predict(x_train))\n",
    "\n",
    "print(train_bias)\n",
    "print(train_var)"
   ]
  },
  {
   "cell_type": "code",
   "execution_count": 58,
   "metadata": {},
   "outputs": [
    {
     "name": "stdout",
     "output_type": "stream",
     "text": [
      "-0.09719614813775984\n",
      "0.01035318067665155\n"
     ]
    }
   ],
   "source": [
    "# code for test set bias and variance\n",
    "test_bias = bias(y_test, reg.predict(x_test)) \n",
    "test_var = variance(reg.predict(x_test))\n",
    "\n",
    "print(test_bias)\n",
    "print(test_var)"
   ]
  },
  {
   "cell_type": "markdown",
   "metadata": {},
   "source": [
    "## Describe in words what these numbers can tell you."
   ]
  },
  {
   "cell_type": "markdown",
   "metadata": {},
   "source": [
    "Your description here (this cell is formatted using markdown)\n",
    "\n",
    "Variance decreases with test, but bias increases (relative to abs values), overfitting unlikely, though underfitting a possibility"
   ]
  },
  {
   "cell_type": "markdown",
   "metadata": {},
   "source": [
    "## Overfit a new model by creating additional features by raising current features to various powers."
   ]
  },
  {
   "cell_type": "markdown",
   "metadata": {},
   "source": [
    "Use `PolynomialFeatures` with degree 3. \n",
    "\n",
    "**Important note:** By including this, you don't only take polynomials of single variables, but you also combine variables, eg:\n",
    "\n",
    "$ \\text{Budget} * \\text{MetaScore} ^ 2 $\n",
    "\n",
    "What you're essentially doing is taking interactions and creating polynomials at the same time! Have a look at how many columns we get using `np.shape`. Quite a few!\n"
   ]
  },
  {
   "cell_type": "code",
   "execution_count": 59,
   "metadata": {},
   "outputs": [],
   "source": [
    "from sklearn.preprocessing import PolynomialFeatures\n",
    "# your code here\n",
    "poly = PolynomialFeatures(3)\n",
    "\n",
    "x_train_poly = poly.fit_transform(x_train)\n",
    "x_test_poly = poly.fit_transform(x_train)"
   ]
  },
  {
   "cell_type": "code",
   "execution_count": 60,
   "metadata": {},
   "outputs": [
    {
     "data": {
      "text/plain": [
       "(22, 35)"
      ]
     },
     "execution_count": 60,
     "metadata": {},
     "output_type": "execute_result"
    }
   ],
   "source": [
    "np.shape(x_train_poly)"
   ]
  },
  {
   "cell_type": "code",
   "execution_count": 61,
   "metadata": {},
   "outputs": [
    {
     "data": {
      "text/plain": [
       "array([[1.00000000e+00, 7.03872437e-01, 0.00000000e+00, 0.00000000e+00,\n",
       "        0.00000000e+00, 4.95436408e-01, 0.00000000e+00, 0.00000000e+00,\n",
       "        0.00000000e+00, 0.00000000e+00, 0.00000000e+00, 0.00000000e+00,\n",
       "        0.00000000e+00, 0.00000000e+00, 0.00000000e+00, 3.48724032e-01,\n",
       "        0.00000000e+00, 0.00000000e+00, 0.00000000e+00, 0.00000000e+00,\n",
       "        0.00000000e+00, 0.00000000e+00, 0.00000000e+00, 0.00000000e+00,\n",
       "        0.00000000e+00, 0.00000000e+00, 0.00000000e+00, 0.00000000e+00,\n",
       "        0.00000000e+00, 0.00000000e+00, 0.00000000e+00, 0.00000000e+00,\n",
       "        0.00000000e+00, 0.00000000e+00, 0.00000000e+00],\n",
       "       [1.00000000e+00, 1.57175399e-01, 7.28395062e-01, 3.64583333e-01,\n",
       "        4.17282917e-02, 2.47041059e-02, 1.14485784e-01, 5.73035308e-02,\n",
       "        6.55866088e-03, 5.30559366e-01, 2.65560700e-01, 3.03946816e-02,\n",
       "        1.32921007e-01, 1.52134397e-02, 1.74125033e-03, 3.88287770e-03,\n",
       "        1.79943488e-02, 9.00670529e-03, 1.03086014e-03, 8.33908798e-02,\n",
       "        4.17396088e-02, 4.77729620e-03, 2.08919123e-02, 2.39117845e-03,\n",
       "        2.73681715e-04, 3.86456822e-01, 1.93433102e-01, 2.21393360e-02,\n",
       "        9.68190051e-02, 1.10813943e-02, 1.26831814e-03, 4.84607838e-02,\n",
       "        5.54656655e-03, 6.34830849e-04, 7.26594017e-05],\n",
       "       [1.00000000e+00, 3.30296128e-01, 7.90123457e-01, 6.14583333e-01,\n",
       "        1.39785126e-01, 1.09095532e-01, 2.60974718e-01, 2.02994495e-01,\n",
       "        4.61704859e-02, 6.24295077e-01, 4.85596708e-01, 1.10447507e-01,\n",
       "        3.77712674e-01, 8.59096089e-02, 1.95398815e-02, 3.60338317e-02,\n",
       "        8.61989388e-02, 6.70482956e-02, 1.52499327e-02, 2.06202246e-01,\n",
       "        1.60390712e-01, 3.64803839e-02, 1.24757033e-01, 2.83756111e-02,\n",
       "        6.45394720e-03, 4.93270184e-01, 3.83681349e-01, 8.72671662e-02,\n",
       "        2.98439643e-01, 6.78791971e-02, 1.54389187e-02, 2.32135914e-01,\n",
       "        5.27986138e-02, 1.20088855e-02, 2.73138481e-03],\n",
       "       [1.00000000e+00, 5.21640091e-01, 8.14814815e-01, 6.35416667e-01,\n",
       "        7.03466815e-01, 2.72108385e-01, 4.25040074e-01, 3.31458808e-01,\n",
       "        3.66956494e-01, 6.63923182e-01, 5.17746914e-01, 5.73195183e-01,\n",
       "        4.03754340e-01, 4.46994539e-01, 4.94865561e-01, 1.41942643e-01,\n",
       "        2.21717943e-01, 1.72902203e-01, 1.91419219e-01, 3.46328949e-01,\n",
       "        2.70077547e-01, 2.99001587e-01, 2.10614451e-01, 2.33170272e-01,\n",
       "        2.58141716e-01, 5.40974445e-01, 4.21867856e-01, 4.67047927e-01,\n",
       "        3.28985018e-01, 3.64217773e-01, 4.03223790e-01, 2.56552237e-01,\n",
       "        2.84027780e-01, 3.14445825e-01, 3.48121500e-01],\n",
       "       [1.00000000e+00, 2.48291572e-01, 8.27160494e-01, 4.16666667e-01,\n",
       "        3.51325055e-01, 6.16487046e-02, 2.05376979e-01, 1.03454822e-01,\n",
       "        8.72310500e-02, 6.84194483e-01, 3.44650206e-01, 2.90602206e-01,\n",
       "        1.73611111e-01, 1.46385439e-01, 1.23429294e-01, 1.53068538e-02,\n",
       "        5.09933729e-02, 2.56869603e-02, 2.16587345e-02, 1.69879723e-01,\n",
       "        8.55737413e-02, 7.21540784e-02, 4.31061757e-02, 3.63462708e-02,\n",
       "        3.06464534e-02, 5.65938646e-01, 2.85081034e-01, 2.40374664e-01,\n",
       "        1.43604252e-01, 1.21084252e-01, 1.02095836e-01, 7.23379630e-02,\n",
       "        6.09939331e-02, 5.14288725e-02, 4.33638035e-02],\n",
       "       [1.00000000e+00, 1.00000000e+00, 7.77777778e-01, 2.91666667e-01,\n",
       "        2.39553509e-01, 1.00000000e+00, 7.77777778e-01, 2.91666667e-01,\n",
       "        2.39553509e-01, 6.04938272e-01, 2.26851852e-01, 1.86319396e-01,\n",
       "        8.50694444e-02, 6.98697735e-02, 5.73858837e-02, 1.00000000e+00,\n",
       "        7.77777778e-01, 2.91666667e-01, 2.39553509e-01, 6.04938272e-01,\n",
       "        2.26851852e-01, 1.86319396e-01, 8.50694444e-02, 6.98697735e-02,\n",
       "        5.73858837e-02, 4.70507545e-01, 1.76440329e-01, 1.44915086e-01,\n",
       "        6.61651235e-02, 5.43431572e-02, 4.46334651e-02, 2.48119213e-02,\n",
       "        2.03786839e-02, 1.67375494e-02, 1.37469898e-02],\n",
       "       [1.00000000e+00, 2.96127563e-02, 9.62962963e-01, 5.72916667e-01,\n",
       "        4.46652714e-01, 8.76915334e-04, 2.85159875e-02, 1.69656416e-02,\n",
       "        1.32266179e-02, 9.27297668e-01, 5.51697531e-01, 4.30110021e-01,\n",
       "        3.28233507e-01, 2.55894784e-01, 1.99498647e-01, 2.59678800e-05,\n",
       "        8.44436988e-04, 5.02399410e-04, 3.91676614e-04, 2.74598398e-02,\n",
       "        1.63372845e-02, 1.27367432e-02, 9.71989884e-03, 7.57774987e-03,\n",
       "        5.90770480e-03, 8.92953310e-01, 5.31264289e-01, 4.14180020e-01,\n",
       "        3.16076710e-01, 2.46417199e-01, 1.92109808e-01, 1.88050447e-01,\n",
       "        1.46606387e-01, 1.14296100e-01, 8.91066120e-02],\n",
       "       [1.00000000e+00, 3.41685649e-02, 8.39506173e-01, 5.00000000e-01,\n",
       "        3.84192363e-01, 1.16749083e-03, 2.86847212e-02, 1.70842825e-02,\n",
       "        1.31273017e-02, 7.04770614e-01, 4.19753086e-01, 3.22531860e-01,\n",
       "        2.50000000e-01, 1.92096182e-01, 1.47603772e-01, 3.98914862e-05,\n",
       "        9.80115757e-04, 5.83745414e-04, 4.48541060e-04, 2.40810005e-02,\n",
       "        1.43423606e-02, 1.10204508e-02, 8.54214123e-03, 6.56365085e-03,\n",
       "        5.04340906e-03, 5.91659281e-01, 3.52385307e-01, 2.70767488e-01,\n",
       "        2.09876543e-01, 1.61265930e-01, 1.23914278e-01, 1.25000000e-01,\n",
       "        9.60480908e-02, 7.38018859e-02, 5.67082419e-02],\n",
       "       [1.00000000e+00, 6.60592255e-02, 1.00000000e+00, 1.00000000e+00,\n",
       "        1.00000000e+00, 4.36382128e-03, 6.60592255e-02, 6.60592255e-02,\n",
       "        6.60592255e-02, 1.00000000e+00, 1.00000000e+00, 1.00000000e+00,\n",
       "        1.00000000e+00, 1.00000000e+00, 1.00000000e+00, 2.88270654e-04,\n",
       "        4.36382128e-03, 4.36382128e-03, 4.36382128e-03, 6.60592255e-02,\n",
       "        6.60592255e-02, 6.60592255e-02, 6.60592255e-02, 6.60592255e-02,\n",
       "        6.60592255e-02, 1.00000000e+00, 1.00000000e+00, 1.00000000e+00,\n",
       "        1.00000000e+00, 1.00000000e+00, 1.00000000e+00, 1.00000000e+00,\n",
       "        1.00000000e+00, 1.00000000e+00, 1.00000000e+00],\n",
       "       [1.00000000e+00, 5.69476082e-02, 9.01234568e-01, 8.12500000e-01,\n",
       "        3.18098693e-01, 3.24303008e-03, 5.13231531e-02, 4.62699317e-02,\n",
       "        1.81149597e-02, 8.12223746e-01, 7.32253086e-01, 2.86681538e-01,\n",
       "        6.60156250e-01, 2.58455188e-01, 1.01186779e-01, 1.84682806e-04,\n",
       "        2.92273081e-03, 2.63496194e-03, 1.03160363e-03, 4.62541997e-02,\n",
       "        4.17000619e-02, 1.63258279e-02, 3.75943195e-02, 1.47184048e-02,\n",
       "        5.76234502e-03, 7.32004117e-01, 6.59931794e-01, 2.58367312e-01,\n",
       "        5.94955633e-01, 2.32928750e-01, 9.11930226e-02, 5.36376953e-01,\n",
       "        2.09994840e-01, 8.22142576e-02, 3.21873820e-02],\n",
       "       [1.00000000e+00, 0.00000000e+00, 8.14814815e-01, 6.87500000e-01,\n",
       "        3.88722385e-01, 0.00000000e+00, 0.00000000e+00, 0.00000000e+00,\n",
       "        0.00000000e+00, 6.63923182e-01, 5.60185185e-01, 3.16736758e-01,\n",
       "        4.72656250e-01, 2.67246640e-01, 1.51105093e-01, 0.00000000e+00,\n",
       "        0.00000000e+00, 0.00000000e+00, 0.00000000e+00, 0.00000000e+00,\n",
       "        0.00000000e+00, 0.00000000e+00, 0.00000000e+00, 0.00000000e+00,\n",
       "        0.00000000e+00, 5.40974445e-01, 4.56447188e-01, 2.58081803e-01,\n",
       "        3.85127315e-01, 2.17756521e-01, 1.23122668e-01, 3.24951172e-01,\n",
       "        1.83732065e-01, 1.03884751e-01, 5.87379320e-02],\n",
       "       [1.00000000e+00, 6.58314351e-01, 9.25925926e-01, 7.70833333e-01,\n",
       "        8.99595368e-01, 4.33377784e-01, 6.09550325e-01, 5.07450645e-01,\n",
       "        5.92216540e-01, 8.57338820e-01, 7.13734568e-01, 8.32958674e-01,\n",
       "        5.94184028e-01, 6.93438096e-01, 8.09271826e-01, 2.85298815e-01,\n",
       "        4.01275726e-01, 3.34062042e-01, 3.89864647e-01, 5.64398449e-01,\n",
       "        4.69861709e-01, 5.48348649e-01, 3.91159873e-01, 4.56500250e-01,\n",
       "        5.32755256e-01, 7.93832241e-01, 6.60865341e-01, 7.71258031e-01,\n",
       "        5.50170396e-01, 6.42072311e-01, 7.49325764e-01, 4.58016855e-01,\n",
       "        5.34525199e-01, 6.23813699e-01, 7.28017185e-01],\n",
       "       [1.00000000e+00, 4.30523918e-01, 8.27160494e-01, 5.41666667e-01,\n",
       "        1.71878517e-01, 1.85350844e-01, 3.56112377e-01, 2.33200456e-01,\n",
       "        7.39978127e-02, 6.84194483e-01, 4.48045267e-01, 1.42171119e-01,\n",
       "        2.93402778e-01, 9.31008635e-02, 2.95422247e-02, 7.97979715e-02,\n",
       "        1.53314896e-01, 1.00398374e-01, 3.18578282e-02, 2.94562089e-01,\n",
       "        1.92894204e-01, 6.12080673e-02, 1.26316913e-01, 4.00821485e-02,\n",
       "        1.27186343e-02, 5.65938646e-01, 3.70605345e-01, 1.17598333e-01,\n",
       "        2.42691187e-01, 7.70093562e-02, 2.44361612e-02, 1.58926505e-01,\n",
       "        5.04296344e-02, 1.60020384e-02, 5.07767378e-03],\n",
       "       [1.00000000e+00, 1.82955513e-01, 0.00000000e+00, 0.00000000e+00,\n",
       "        0.00000000e+00, 3.34727196e-02, 0.00000000e+00, 0.00000000e+00,\n",
       "        0.00000000e+00, 0.00000000e+00, 0.00000000e+00, 0.00000000e+00,\n",
       "        0.00000000e+00, 0.00000000e+00, 0.00000000e+00, 6.12401856e-03,\n",
       "        0.00000000e+00, 0.00000000e+00, 0.00000000e+00, 0.00000000e+00,\n",
       "        0.00000000e+00, 0.00000000e+00, 0.00000000e+00, 0.00000000e+00,\n",
       "        0.00000000e+00, 0.00000000e+00, 0.00000000e+00, 0.00000000e+00,\n",
       "        0.00000000e+00, 0.00000000e+00, 0.00000000e+00, 0.00000000e+00,\n",
       "        0.00000000e+00, 0.00000000e+00, 0.00000000e+00],\n",
       "       [1.00000000e+00, 2.93849658e-01, 8.27160494e-01, 5.10416667e-01,\n",
       "        3.69781871e-01, 8.63476217e-02, 2.43060828e-01, 1.49985763e-01,\n",
       "        1.08660276e-01, 6.84194483e-01, 4.22196502e-01, 3.05868955e-01,\n",
       "        2.60525174e-01, 1.88742830e-01, 1.36738632e-01, 2.53732191e-02,\n",
       "        7.14233414e-02, 4.40732652e-02, 3.19297851e-02, 2.01050315e-01,\n",
       "        1.24062298e-01, 8.98794878e-02, 7.65552332e-02, 5.54620160e-02,\n",
       "        4.01806002e-02, 5.65938646e-01, 3.49224267e-01, 2.53002716e-01,\n",
       "        2.15496131e-01, 1.56120612e-01, 1.13104794e-01, 1.32976391e-01,\n",
       "        9.63374860e-02, 6.97936767e-02, 5.05634671e-02],\n",
       "       [1.00000000e+00, 2.25512528e-01, 9.62962963e-01, 8.64583333e-01,\n",
       "        6.85073252e-01, 5.08559005e-02, 2.17160213e-01, 1.94974374e-01,\n",
       "        1.54492601e-01, 9.27297668e-01, 8.32561728e-01, 6.59700169e-01,\n",
       "        7.47504340e-01, 5.92302916e-01, 4.69325361e-01, 1.14686427e-02,\n",
       "        4.89723486e-02, 4.39691640e-02, 3.48400172e-02, 2.09117242e-01,\n",
       "        1.87753100e-01, 1.48770653e-01, 1.68571594e-01, 1.33571728e-01,\n",
       "        1.05838749e-01, 8.92953310e-01, 8.01726109e-01, 6.35266829e-01,\n",
       "        7.19818994e-01, 5.70365771e-01, 4.51942940e-01, 6.46279794e-01,\n",
       "        5.12095230e-01, 4.05770885e-01, 3.21522252e-01],\n",
       "       [1.00000000e+00, 3.41685649e-02, 7.03703704e-01, 5.00000000e-01,\n",
       "        5.68829357e-02, 1.16749083e-03, 2.40445457e-02, 1.70842825e-02,\n",
       "        1.94360828e-03, 4.95198903e-01, 3.51851852e-01, 4.00287325e-02,\n",
       "        2.50000000e-01, 2.84414678e-02, 3.23566837e-03, 3.98914862e-05,\n",
       "        8.21567620e-04, 5.83745414e-04, 6.64103057e-05, 1.69202359e-02,\n",
       "        1.20222728e-02, 1.36772435e-03, 8.54214123e-03, 9.71804140e-04,\n",
       "        1.10558145e-04, 3.48473302e-01, 2.47599451e-01, 2.81683673e-02,\n",
       "        1.75925926e-01, 2.00143663e-02, 2.27695182e-03, 1.25000000e-01,\n",
       "        1.42207339e-02, 1.61783419e-03, 1.84054316e-04],\n",
       "       [1.00000000e+00, 4.76082005e-01, 0.00000000e+00, 0.00000000e+00,\n",
       "        0.00000000e+00, 2.26654075e-01, 0.00000000e+00, 0.00000000e+00,\n",
       "        0.00000000e+00, 0.00000000e+00, 0.00000000e+00, 0.00000000e+00,\n",
       "        0.00000000e+00, 0.00000000e+00, 0.00000000e+00, 1.07905926e-01,\n",
       "        0.00000000e+00, 0.00000000e+00, 0.00000000e+00, 0.00000000e+00,\n",
       "        0.00000000e+00, 0.00000000e+00, 0.00000000e+00, 0.00000000e+00,\n",
       "        0.00000000e+00, 0.00000000e+00, 0.00000000e+00, 0.00000000e+00,\n",
       "        0.00000000e+00, 0.00000000e+00, 0.00000000e+00, 0.00000000e+00,\n",
       "        0.00000000e+00, 0.00000000e+00, 0.00000000e+00],\n",
       "       [1.00000000e+00, 8.88382688e-02, 8.88888889e-01, 6.04166667e-01,\n",
       "        1.41172969e-01, 7.89223800e-03, 7.89673500e-02, 5.36731207e-02,\n",
       "        1.25415621e-02, 7.90123457e-01, 5.37037037e-01, 1.25487083e-01,\n",
       "        3.65017361e-01, 8.52920019e-02, 1.99298071e-02, 7.01132761e-04,\n",
       "        7.01532267e-03, 4.76822713e-03, 1.11417067e-03, 7.01932000e-02,\n",
       "        4.77094406e-02, 1.11480552e-02, 3.24275104e-02, 7.57719379e-03,\n",
       "        1.77052956e-03, 7.02331962e-01, 4.77366255e-01, 1.11544074e-01,\n",
       "        3.24459877e-01, 7.58151128e-02, 1.77153841e-02, 2.20531322e-01,\n",
       "        5.15305845e-02, 1.20409251e-02, 2.81355003e-03],\n",
       "       [1.00000000e+00, 1.11617312e-01, 9.13580247e-01, 8.85416667e-01,\n",
       "        2.64783964e-01, 1.24584244e-02, 1.01971372e-01, 9.88278284e-02,\n",
       "        2.95544743e-02, 8.34628868e-01, 8.08899177e-01, 2.41901399e-01,\n",
       "        7.83962674e-01, 2.34444134e-01, 7.01105473e-02, 1.39057584e-03,\n",
       "        1.13817704e-02, 1.10308966e-02, 3.29879098e-03, 9.31590308e-02,\n",
       "        9.02871519e-02, 2.70003839e-02, 8.75038064e-02, 2.61680241e-02,\n",
       "        7.82555084e-03, 7.62500447e-01, 7.38994310e-01, 2.20996340e-01,\n",
       "        7.16212813e-01, 2.14183530e-01, 6.40516112e-02, 6.94133617e-01,\n",
       "        2.07580744e-01, 6.20770471e-02, 1.85641486e-02],\n",
       "       [1.00000000e+00, 3.94077449e-01, 6.54320988e-01, 2.91666667e-01,\n",
       "        3.35956467e-01, 1.55297036e-01, 2.57853145e-01, 1.14939256e-01,\n",
       "        1.32392867e-01, 4.28135955e-01, 1.90843621e-01, 2.19823367e-01,\n",
       "        8.50694444e-02, 9.79873029e-02, 1.12866748e-01, 6.11990596e-02,\n",
       "        1.01614110e-01, 4.52949687e-02, 5.21730434e-02, 1.68718725e-01,\n",
       "        7.52071674e-02, 8.66274318e-02, 3.35239496e-02, 3.86145863e-02,\n",
       "        4.44782400e-02, 2.80138341e-01, 1.24872987e-01, 1.43835043e-01,\n",
       "        5.56627229e-02, 6.41151488e-02, 7.38510819e-02, 2.48119213e-02,\n",
       "        2.85796300e-02, 3.29194681e-02, 3.79183139e-02],\n",
       "       [1.00000000e+00, 1.11617312e-01, 8.76543210e-01, 0.00000000e+00,\n",
       "        0.00000000e+00, 1.24584244e-02, 9.78373970e-02, 0.00000000e+00,\n",
       "        0.00000000e+00, 7.68327999e-01, 0.00000000e+00, 0.00000000e+00,\n",
       "        0.00000000e+00, 0.00000000e+00, 0.00000000e+00, 1.39057584e-03,\n",
       "        1.09203473e-02, 0.00000000e+00, 0.00000000e+00, 8.57587060e-02,\n",
       "        0.00000000e+00, 0.00000000e+00, 0.00000000e+00, 0.00000000e+00,\n",
       "        0.00000000e+00, 6.73472690e-01, 0.00000000e+00, 0.00000000e+00,\n",
       "        0.00000000e+00, 0.00000000e+00, 0.00000000e+00, 0.00000000e+00,\n",
       "        0.00000000e+00, 0.00000000e+00, 0.00000000e+00]])"
      ]
     },
     "execution_count": 61,
     "metadata": {},
     "output_type": "execute_result"
    }
   ],
   "source": [
    "x_train_poly"
   ]
  },
  {
   "cell_type": "markdown",
   "metadata": {},
   "source": [
    "## Plot your overfitted model's training predictions against the actual data"
   ]
  },
  {
   "cell_type": "code",
   "execution_count": null,
   "metadata": {},
   "outputs": [],
   "source": [
    "# your code here"
   ]
  },
  {
   "cell_type": "markdown",
   "metadata": {},
   "source": [
    "Wow, we almost get a perfect fit!"
   ]
  },
  {
   "cell_type": "markdown",
   "metadata": {},
   "source": [
    "## Calculate the bias and variance for the train set"
   ]
  },
  {
   "cell_type": "code",
   "execution_count": null,
   "metadata": {},
   "outputs": [],
   "source": [
    "# your code here"
   ]
  },
  {
   "cell_type": "markdown",
   "metadata": {},
   "source": [
    "## Plot your overfitted model's test predictions against the actual data."
   ]
  },
  {
   "cell_type": "code",
   "execution_count": null,
   "metadata": {},
   "outputs": [],
   "source": [
    "# your code here"
   ]
  },
  {
   "cell_type": "markdown",
   "metadata": {},
   "source": [
    "##  Calculate the bias and variance for the train set."
   ]
  },
  {
   "cell_type": "code",
   "execution_count": null,
   "metadata": {},
   "outputs": [],
   "source": [
    "# your code here"
   ]
  },
  {
   "cell_type": "markdown",
   "metadata": {},
   "source": [
    "## Describe what you notice about the bias and variance statistics for your overfit model"
   ]
  },
  {
   "cell_type": "markdown",
   "metadata": {},
   "source": [
    "Your description here (this cell is formatted using markdown)"
   ]
  },
  {
   "cell_type": "markdown",
   "metadata": {},
   "source": [
    "## Level Up - Optional"
   ]
  },
  {
   "cell_type": "markdown",
   "metadata": {},
   "source": [
    "In this lab we went from 4 predictors to 35 by adding polynomials and interactions, using `PolynomialFeatures`. That being said, where 35 leads to overfitting, there are probably ways to improve by just adding a few polynomials. Feel free to experiment and see how bias and variance improve!"
   ]
  },
  {
   "cell_type": "markdown",
   "metadata": {},
   "source": [
    "## Summary"
   ]
  },
  {
   "cell_type": "markdown",
   "metadata": {},
   "source": [
    "This lab gave you insight into how bias and variance change for a training and a test set by using a pretty \"simple\" model, and a very complex model. "
   ]
  }
 ],
 "metadata": {
  "kernelspec": {
   "display_name": "Python 3",
   "language": "python",
   "name": "python3"
  },
  "language_info": {
   "codemirror_mode": {
    "name": "ipython",
    "version": 3
   },
   "file_extension": ".py",
   "mimetype": "text/x-python",
   "name": "python",
   "nbconvert_exporter": "python",
   "pygments_lexer": "ipython3",
   "version": "3.6.6"
  }
 },
 "nbformat": 4,
 "nbformat_minor": 2
}
